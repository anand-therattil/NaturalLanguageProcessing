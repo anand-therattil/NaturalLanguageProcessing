{
  "nbformat": 4,
  "nbformat_minor": 0,
  "metadata": {
    "colab": {
      "provenance": [],
      "authorship_tag": "ABX9TyOqssjGb1WoUX6ueBSUgiT2",
      "include_colab_link": true
    },
    "kernelspec": {
      "name": "python3",
      "display_name": "Python 3"
    },
    "language_info": {
      "name": "python"
    }
  },
  "cells": [
    {
      "cell_type": "markdown",
      "metadata": {
        "id": "view-in-github",
        "colab_type": "text"
      },
      "source": [
        "<a href=\"https://colab.research.google.com/github/anand-therattil/NaturalLanguageProcessing/blob/main/NLP_feature.ipynb\" target=\"_parent\"><img src=\"https://colab.research.google.com/assets/colab-badge.svg\" alt=\"Open In Colab\"/></a>"
      ]
    },
    {
      "cell_type": "code",
      "execution_count": 1,
      "metadata": {
        "id": "HOutKFsr68Qj"
      },
      "outputs": [],
      "source": [
        "import nltk\n",
        "from nltk import PorterStemmer\n",
        "from nltk.corpus import stopwords\n",
        "from nltk.stem import WordNetLemmatizer\n",
        "import re\n",
        "# nltk.download('all')"
      ]
    },
    {
      "cell_type": "code",
      "source": [
        "# Pre-Processing \n",
        "# Keeps only alphabets and converts to lower case\n",
        "def preProcessing(sentence):\n",
        "  sentence=re.sub('[^a-zA-Z]',' ',sentence)\n",
        "  sentence= sentence.lower()\n",
        "  return sentence"
      ],
      "metadata": {
        "id": "nWFb64PFeENE"
      },
      "execution_count": 2,
      "outputs": []
    },
    {
      "cell_type": "code",
      "source": [
        "#word_tokenize\n",
        "def stemming(sentences):\n",
        "  stemmer= PorterStemmer()\n",
        "  sentences= preProcessing(sentences)\n",
        "  words= nltk.word_tokenize(sentences)\n",
        "  features =[stemmer.stem(word) for word in words if word not in set(stopwords.words('english'))]\n",
        "  features = \" \".join(features)\n",
        "  return features"
      ],
      "metadata": {
        "id": "YLoT_1WJ9V_X"
      },
      "execution_count": 3,
      "outputs": []
    },
    {
      "cell_type": "code",
      "source": [
        "# Lemmetization\n",
        "def lemmatization(sentences):\n",
        "  lemmatizer = WordNetLemmatizer()\n",
        "  sentences= preProcessing(sentences)\n",
        "  words=nltk.word_tokenize(sentences)\n",
        "  features =[lemmatizer.lemmatize(word) for word in words if word not in set(stopwords.words('english'))]\n",
        "  features = \" \".join(features)\n",
        "  return features"
      ],
      "metadata": {
        "id": "VrBXrsU7cCw0"
      },
      "execution_count": 4,
      "outputs": []
    },
    {
      "cell_type": "code",
      "source": [
        "text=\"The Capture of Wakefield occurred on 21 May 1643 during the First English Civil War when around 1,500 Parliamentarians under the command of Sir Thomas Fairfax (depicted) attacked the Royalist garrison of Wakefield, Yorkshire. They were outnumbered by around 3,000 Royalists led by George Goring, but successfully stormed the town. Around 800 Parliamentarians had been taken prisoner after Fairfax was defeated at Seacroft Moor, and he planned the attack to take prisoners of his own to exchange for his men. He marched his force from Leeds and divided it to attack from two different directions. After around two hours of fighting early in the morning, they broke into the town. Goring, who had been in bed suffering from either illness or a hangover, led a counterattack in his nightshirt, but to no avail. Fairfax took roughly 1,400 prisoners while, according to his own account, losing no more than seven men.\"\n",
        "sentences=nltk.sent_tokenize(text)\n",
        "for segment in sentences:\n",
        "  print(stemming(segment))"
      ],
      "metadata": {
        "colab": {
          "base_uri": "https://localhost:8080/"
        },
        "id": "OkHQwSTU_JDF",
        "outputId": "e42bd52b-e2c6-49d4-d490-5b0276e97a3f"
      },
      "execution_count": 5,
      "outputs": [
        {
          "output_type": "stream",
          "name": "stdout",
          "text": [
            "captur wakefield occur may first english civil war around parliamentarian command sir thoma fairfax depict attack royalist garrison wakefield yorkshir\n",
            "outnumb around royalist led georg gore success storm town\n",
            "around parliamentarian taken prison fairfax defeat seacroft moor plan attack take prison exchang men\n",
            "march forc leed divid attack two differ direct\n",
            "around two hour fight earli morn broke town\n",
            "gore bed suffer either ill hangov led counterattack nightshirt avail\n",
            "fairfax took roughli prison accord account lose seven men\n"
          ]
        }
      ]
    }
  ]
}